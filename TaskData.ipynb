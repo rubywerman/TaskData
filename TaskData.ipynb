{
 "cells": [
  {
   "cell_type": "code",
   "execution_count": 322,
   "metadata": {},
   "outputs": [],
   "source": [
    "import json\n",
    "import pandas as pd\n",
    "pd.set_option('display.max_rows', 500)"
   ]
  },
  {
   "cell_type": "code",
   "execution_count": 363,
   "metadata": {},
   "outputs": [],
   "source": [
    "#open JSON file\n",
    "with open(\"volunteer.json\", \"r\") as read_file:\n",
    "    data = json.load(read_file)\n",
    "\n",
    "#make dictionary with ID as key, filter out null IDs\n",
    "id_counts = {}\n",
    "for i in data.keys():\n",
    "    if i != \"null\":\n",
    "        df = pd.DataFrame.from_records(data[i])\n",
    "        counts = df['topic'].value_counts().to_dict()\n",
    "        id_counts[i] = counts\n",
    "        \n",
    "#make data frame of User IDs and task counts\n",
    "df1 = pd.DataFrame.from_dict(id_counts, orient='index').fillna(0)\n",
    "df1 = df1.rename(columns={\"Quoted Sources\": \"Quoted_sources\"})"
   ]
  },
  {
   "cell_type": "code",
   "execution_count": 400,
   "metadata": {},
   "outputs": [],
   "source": [
    "#Define function to return the IDs of users that have completed a specified amount of a specified task\n",
    "def get_users(task, count):\n",
    "    \"\"\"\n",
    "    Arguments:\n",
    "        task {str}: The name of the task (\"Evidence\", \"Quoted_sources\", \"Language\", \"Arguments\", \"Probability\", \"Reasoning\")\n",
    "        count {int}: minimum number of tasks completed\n",
    "        \n",
    "    Returns: \n",
    "        ids {list}: The list of user IDs that have completed the specified task and quantity\n",
    "\n",
    "    \"\"\"\n",
    "    task = task.capitalize()\n",
    "    if task not in [\"Evidence\", \"Quoted_sources\", \"Language\", \"Arguments\", \"Probability\", \"Reasoning\"]:\n",
    "        raise ValueError('Task must be \"Evidence\", \"Quoted_sources\", \"Language\", \"Arguments\", \"Probability\", or \"Reasoning\"')\n",
    "    else:\n",
    "        temp = df1.query(task + \">= \" + str(count), inplace = False)\n",
    "        ids = temp.index.tolist()\n",
    "        return ids\n",
    "\n",
    "#Define function to return user IDs that have earned the specified badge in the specified task\n",
    "def get_badges(task, level):\n",
    "    \"\"\"\n",
    "    Arguments:\n",
    "        level {str}: The name of the badge level (\"badge\", \"bronze\", \"silver\", \"gold\")\n",
    "        \n",
    "    Returns: \n",
    "        ids {list}: The list of user IDs that have earned the specified badge in the specified task\n",
    "\n",
    "    \"\"\"\n",
    "    badges = {\"Badge\" : 50, \"Bronze\" : 100, \"Silver\" : 250, \"Gold\" : 500}\n",
    "    level, task = level.capitalize(), task.capitalize()\n",
    "    if level not in badges.keys():\n",
    "        raise ValueError('Level must be \"Badge\", \"Bronze\", \"Silver\", or \"Gold\"')\n",
    "    else:\n",
    "        return get_users(task, badges[level])\n",
    "\n",
    "#Define function to return all users that are owed badges\n",
    "def get_all_badges():\n",
    "    \"\"\"\n",
    "    Returns:\n",
    "        total {dictionary}: A dictionary with key (Task name, Badge level) and value (list of IDs that are owed that badge)\n",
    "    \"\"\"\n",
    "    total = {}\n",
    "    badges = {\"Badge\" : 50, \"Bronze\" : 100, \"Silver\" : 250, \"Gold\" : 500} \n",
    "    tasks = [\"Evidence\", \"Quoted_sources\", \"Language\", \"Arguments\", \"Probability\", \"Reasoning\"]\n",
    "    for task in tasks:\n",
    "        for badge in badges:\n",
    "            result = get_badges(task, badge)\n",
    "            if result:\n",
    "                total[task, badge] = result\n",
    "    return total"
   ]
  },
  {
   "cell_type": "code",
   "execution_count": 402,
   "metadata": {},
   "outputs": [
    {
     "data": {
      "text/plain": [
       "{('Quoted_sources', 'Badge'): ['201'],\n",
       " ('Language', 'Badge'): ['196', '201', '205', '200']}"
      ]
     },
     "execution_count": 402,
     "metadata": {},
     "output_type": "execute_result"
    }
   ],
   "source": [
    "total = get_all_badges()\n",
    "total"
   ]
  }
 ],
 "metadata": {
  "kernelspec": {
   "display_name": "Python 3",
   "language": "python",
   "name": "python3"
  },
  "language_info": {
   "codemirror_mode": {
    "name": "ipython",
    "version": 3
   },
   "file_extension": ".py",
   "mimetype": "text/x-python",
   "name": "python",
   "nbconvert_exporter": "python",
   "pygments_lexer": "ipython3",
   "version": "3.7.4"
  }
 },
 "nbformat": 4,
 "nbformat_minor": 4
}
